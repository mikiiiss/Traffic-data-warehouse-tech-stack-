{
 "cells": [
  {
   "cell_type": "code",
   "execution_count": 1,
   "metadata": {},
   "outputs": [],
   "source": [
    "import pandas as pd\n",
    "df = pd.read_csv(\"/home/miki/Documents/10 Academy/Week 2/Traffic_DWH/20181024_d1_0830_0900.csv\")"
   ]
  },
  {
   "cell_type": "code",
   "execution_count": 2,
   "metadata": {},
   "outputs": [
    {
     "data": {
      "text/plain": [
       "['track_id; type; traveled_d; avg_speed; lat; lon; speed; lon_acc; lat_acc; time']"
      ]
     },
     "execution_count": 2,
     "metadata": {},
     "output_type": "execute_result"
    }
   ],
   "source": [
    "df.columns.to_list()\n"
   ]
  },
  {
   "cell_type": "code",
   "execution_count": 3,
   "metadata": {},
   "outputs": [],
   "source": [
    "with open(\"/home/miki/Documents/10 Academy/Week 2/Traffic_DWH/20181024_d1_0830_0900.csv\", 'r') as file:\n",
    "    lines = file.readlines()"
   ]
  },
  {
   "cell_type": "code",
   "execution_count": 4,
   "metadata": {},
   "outputs": [
    {
     "name": "stdout",
     "output_type": "stream",
     "text": [
      "The number of rows/lines is 923\n"
     ]
    }
   ],
   "source": [
    "print(f\"The number of rows/lines is {len(lines)}\")"
   ]
  },
  {
   "cell_type": "code",
   "execution_count": 5,
   "metadata": {},
   "outputs": [
    {
     "name": "stdout",
     "output_type": "stream",
     "text": [
      "track_id; type; traveled_d; avg_speed; lat; lon; speed; lon_acc; lat_acc; time\n",
      "\n",
      "['track_id', ' type', ' traveled_d', ' avg_speed', ' lat', ' lon', ' speed', ' lon_acc', ' lat_acc', ' time']\n"
     ]
    }
   ],
   "source": [
    "print(lines[0]) # column names\n",
    "print(lines[0].strip('\\n').strip().strip(';').split(';')) # columns names as a list"
   ]
  },
  {
   "cell_type": "code",
   "execution_count": 6,
   "metadata": {},
   "outputs": [
    {
     "data": {
      "text/plain": [
       "923"
      ]
     },
     "execution_count": 6,
     "metadata": {},
     "output_type": "execute_result"
    }
   ],
   "source": [
    "lines_as_lists = [line.strip('\\n').strip().strip(';').split(';') for line in lines]\n",
    "len(lines_as_lists) "
   ]
  },
  {
   "cell_type": "code",
   "execution_count": 10,
   "metadata": {},
   "outputs": [
    {
     "name": "stdout",
     "output_type": "stream",
     "text": [
      "the number of fields in row 1 is 2710, row 2 is 2680\n"
     ]
    }
   ],
   "source": [
    "print(f\"the number of fields in row 1 is {len(lines_as_lists[1])}, row 2 is {len(lines_as_lists[2])}\")"
   ]
  },
  {
   "cell_type": "code",
   "execution_count": 11,
   "metadata": {},
   "outputs": [],
   "source": [
    "for row in lines_as_lists:\n",
    "    track_info.append(row)\n"
   ]
  },
  {
   "cell_type": "code",
   "execution_count": 10,
   "metadata": {},
   "outputs": [],
   "source": [
    "track_info = [\n",
    "    {'track_id': row[0], 'type': row[1], 'traveled_d': row[2], 'avg_speed': row[3]}\n",
    "    for row in lines_as_lists\n",
    "]\n"
   ]
  },
  {
   "cell_type": "code",
   "execution_count": 12,
   "metadata": {},
   "outputs": [],
   "source": [
    "cols = lines_as_lists.pop(0)"
   ]
  },
  {
   "cell_type": "code",
   "execution_count": 13,
   "metadata": {},
   "outputs": [
    {
     "name": "stdout",
     "output_type": "stream",
     "text": [
      "['track_id', ' type', ' traveled_d', ' avg_speed']\n",
      "['track_id', ' lat', ' lon', ' speed', ' lon_acc', ' lat_acc', ' time']\n"
     ]
    }
   ],
   "source": [
    "track_cols = cols[:4]\n",
    "trajectory_cols = ['track_id'] + cols[4:]\n",
    "\n",
    "print(track_cols)\n",
    "print(trajectory_cols)"
   ]
  },
  {
   "cell_type": "code",
   "execution_count": null,
   "metadata": {},
   "outputs": [],
   "source": [
    "print(track_info)\n",
    "\n",
    "\n"
   ]
  },
  {
   "cell_type": "code",
   "execution_count": 14,
   "metadata": {},
   "outputs": [
    {
     "ename": "NameError",
     "evalue": "name 'df_track' is not defined",
     "output_type": "error",
     "traceback": [
      "\u001b[0;31m---------------------------------------------------------------------------\u001b[0m",
      "\u001b[0;31mNameError\u001b[0m                                 Traceback (most recent call last)",
      "Cell \u001b[0;32mIn[14], line 1\u001b[0m\n\u001b[0;32m----> 1\u001b[0m df_track \u001b[38;5;241m=\u001b[39m \u001b[43mdf_track\u001b[49m\u001b[38;5;241m.\u001b[39mreset_index(drop\u001b[38;5;241m=\u001b[39m\u001b[38;5;28;01mTrue\u001b[39;00m)\n\u001b[1;32m      2\u001b[0m \u001b[38;5;28mprint\u001b[39m(df_track)\n",
      "\u001b[0;31mNameError\u001b[0m: name 'df_track' is not defined"
     ]
    }
   ],
   "source": [
    "df_track = df_track.reset_index(drop=True)\n",
    "print(df_track)\n",
    "\n",
    "\n",
    "\n",
    "\n"
   ]
  },
  {
   "cell_type": "code",
   "execution_count": null,
   "metadata": {},
   "outputs": [
    {
     "name": "stdout",
     "output_type": "stream",
     "text": [
      "The number of columns in track_info matches the length of track_cols.\n"
     ]
    }
   ],
   "source": [
    "if len(track_info[0]) != len(track_cols):\n",
    "    print(\"The number of columns in track_info does not match the length of track_cols.\")\n",
    "else:\n",
    "    print(\"The number of columns in track_info matches the length of track_cols.\")\n"
   ]
  },
  {
   "cell_type": "code",
   "execution_count": null,
   "metadata": {},
   "outputs": [],
   "source": [
    "track_info = []\n",
    "trajectory_info = []\n",
    "\n",
    "# for row in lines_as_lists:\n",
    "track_id = row[0]\n",
    "\n",
    "#     # add the first 4 values to track_info\n",
    "track_info.append(row[:4]) \n",
    "\n",
    "remaining_values = row[4:]\n",
    "#     # reshape the list into a matrix and add track_id\n",
    "trajectory_matrix = [ [track_id] + remaining_values[i:i+6] for i in range(0,len(remaining_values),6)]\n",
    "#     # add the matrix rows to trajectory_info\n",
    "trajectory_info = trajectory_info + trajectory_matrix"
   ]
  },
  {
   "cell_type": "code",
   "execution_count": 15,
   "metadata": {},
   "outputs": [
    {
     "ename": "ValueError",
     "evalue": "dictionary update sequence element #0 has length 8; 2 is required",
     "output_type": "error",
     "traceback": [
      "\u001b[0;31m---------------------------------------------------------------------------\u001b[0m",
      "\u001b[0;31mValueError\u001b[0m                                Traceback (most recent call last)",
      "Cell \u001b[0;32mIn[15], line 1\u001b[0m\n\u001b[0;32m----> 1\u001b[0m df_track \u001b[38;5;241m=\u001b[39m \u001b[43mpd\u001b[49m\u001b[38;5;241;43m.\u001b[39;49m\u001b[43mDataFrame\u001b[49m\u001b[43m(\u001b[49m\u001b[43mdata\u001b[49m\u001b[38;5;241;43m=\u001b[39;49m\u001b[43m \u001b[49m\u001b[43mtrack_info\u001b[49m\u001b[43m,\u001b[49m\u001b[43mcolumns\u001b[49m\u001b[38;5;241;43m=\u001b[39;49m\u001b[43mtrack_cols\u001b[49m\u001b[43m)\u001b[49m\n\u001b[1;32m      2\u001b[0m df_track\u001b[38;5;241m.\u001b[39mcolumns \u001b[38;5;241m=\u001b[39m df_track\u001b[38;5;241m.\u001b[39mcolumns\u001b[38;5;241m.\u001b[39mstr\u001b[38;5;241m.\u001b[39mstrip()\n\u001b[1;32m      4\u001b[0m df_track\n",
      "File \u001b[0;32m~/.local/lib/python3.8/site-packages/pandas/core/frame.py:782\u001b[0m, in \u001b[0;36mDataFrame.__init__\u001b[0;34m(self, data, index, columns, dtype, copy)\u001b[0m\n\u001b[1;32m    780\u001b[0m     \u001b[38;5;28;01mif\u001b[39;00m columns \u001b[38;5;129;01mis\u001b[39;00m \u001b[38;5;129;01mnot\u001b[39;00m \u001b[38;5;28;01mNone\u001b[39;00m:\n\u001b[1;32m    781\u001b[0m         columns \u001b[38;5;241m=\u001b[39m ensure_index(columns)\n\u001b[0;32m--> 782\u001b[0m     arrays, columns, index \u001b[38;5;241m=\u001b[39m \u001b[43mnested_data_to_arrays\u001b[49m\u001b[43m(\u001b[49m\n\u001b[1;32m    783\u001b[0m \u001b[43m        \u001b[49m\u001b[38;5;66;43;03m# error: Argument 3 to \"nested_data_to_arrays\" has incompatible\u001b[39;49;00m\n\u001b[1;32m    784\u001b[0m \u001b[43m        \u001b[49m\u001b[38;5;66;43;03m# type \"Optional[Collection[Any]]\"; expected \"Optional[Index]\"\u001b[39;49;00m\n\u001b[1;32m    785\u001b[0m \u001b[43m        \u001b[49m\u001b[43mdata\u001b[49m\u001b[43m,\u001b[49m\n\u001b[1;32m    786\u001b[0m \u001b[43m        \u001b[49m\u001b[43mcolumns\u001b[49m\u001b[43m,\u001b[49m\n\u001b[1;32m    787\u001b[0m \u001b[43m        \u001b[49m\u001b[43mindex\u001b[49m\u001b[43m,\u001b[49m\u001b[43m  \u001b[49m\u001b[38;5;66;43;03m# type: ignore[arg-type]\u001b[39;49;00m\n\u001b[1;32m    788\u001b[0m \u001b[43m        \u001b[49m\u001b[43mdtype\u001b[49m\u001b[43m,\u001b[49m\n\u001b[1;32m    789\u001b[0m \u001b[43m    \u001b[49m\u001b[43m)\u001b[49m\n\u001b[1;32m    790\u001b[0m     mgr \u001b[38;5;241m=\u001b[39m arrays_to_mgr(\n\u001b[1;32m    791\u001b[0m         arrays,\n\u001b[1;32m    792\u001b[0m         columns,\n\u001b[0;32m   (...)\u001b[0m\n\u001b[1;32m    795\u001b[0m         typ\u001b[38;5;241m=\u001b[39mmanager,\n\u001b[1;32m    796\u001b[0m     )\n\u001b[1;32m    797\u001b[0m \u001b[38;5;28;01melse\u001b[39;00m:\n",
      "File \u001b[0;32m~/.local/lib/python3.8/site-packages/pandas/core/internals/construction.py:498\u001b[0m, in \u001b[0;36mnested_data_to_arrays\u001b[0;34m(data, columns, index, dtype)\u001b[0m\n\u001b[1;32m    495\u001b[0m \u001b[38;5;28;01mif\u001b[39;00m is_named_tuple(data[\u001b[38;5;241m0\u001b[39m]) \u001b[38;5;129;01mand\u001b[39;00m columns \u001b[38;5;129;01mis\u001b[39;00m \u001b[38;5;28;01mNone\u001b[39;00m:\n\u001b[1;32m    496\u001b[0m     columns \u001b[38;5;241m=\u001b[39m ensure_index(data[\u001b[38;5;241m0\u001b[39m]\u001b[38;5;241m.\u001b[39m_fields)\n\u001b[0;32m--> 498\u001b[0m arrays, columns \u001b[38;5;241m=\u001b[39m \u001b[43mto_arrays\u001b[49m\u001b[43m(\u001b[49m\u001b[43mdata\u001b[49m\u001b[43m,\u001b[49m\u001b[43m \u001b[49m\u001b[43mcolumns\u001b[49m\u001b[43m,\u001b[49m\u001b[43m \u001b[49m\u001b[43mdtype\u001b[49m\u001b[38;5;241;43m=\u001b[39;49m\u001b[43mdtype\u001b[49m\u001b[43m)\u001b[49m\n\u001b[1;32m    499\u001b[0m columns \u001b[38;5;241m=\u001b[39m ensure_index(columns)\n\u001b[1;32m    501\u001b[0m \u001b[38;5;28;01mif\u001b[39;00m index \u001b[38;5;129;01mis\u001b[39;00m \u001b[38;5;28;01mNone\u001b[39;00m:\n",
      "File \u001b[0;32m~/.local/lib/python3.8/site-packages/pandas/core/internals/construction.py:832\u001b[0m, in \u001b[0;36mto_arrays\u001b[0;34m(data, columns, dtype)\u001b[0m\n\u001b[1;32m    830\u001b[0m     arr \u001b[38;5;241m=\u001b[39m _list_to_arrays(data)\n\u001b[1;32m    831\u001b[0m \u001b[38;5;28;01melif\u001b[39;00m \u001b[38;5;28misinstance\u001b[39m(data[\u001b[38;5;241m0\u001b[39m], abc\u001b[38;5;241m.\u001b[39mMapping):\n\u001b[0;32m--> 832\u001b[0m     arr, columns \u001b[38;5;241m=\u001b[39m \u001b[43m_list_of_dict_to_arrays\u001b[49m\u001b[43m(\u001b[49m\u001b[43mdata\u001b[49m\u001b[43m,\u001b[49m\u001b[43m \u001b[49m\u001b[43mcolumns\u001b[49m\u001b[43m)\u001b[49m\n\u001b[1;32m    833\u001b[0m \u001b[38;5;28;01melif\u001b[39;00m \u001b[38;5;28misinstance\u001b[39m(data[\u001b[38;5;241m0\u001b[39m], ABCSeries):\n\u001b[1;32m    834\u001b[0m     arr, columns \u001b[38;5;241m=\u001b[39m _list_of_series_to_arrays(data, columns)\n",
      "File \u001b[0;32m~/.local/lib/python3.8/site-packages/pandas/core/internals/construction.py:917\u001b[0m, in \u001b[0;36m_list_of_dict_to_arrays\u001b[0;34m(data, columns)\u001b[0m\n\u001b[1;32m    913\u001b[0m     columns \u001b[38;5;241m=\u001b[39m ensure_index(pre_cols)\n\u001b[1;32m    915\u001b[0m \u001b[38;5;66;03m# assure that they are of the base dict class and not of derived\u001b[39;00m\n\u001b[1;32m    916\u001b[0m \u001b[38;5;66;03m# classes\u001b[39;00m\n\u001b[0;32m--> 917\u001b[0m data \u001b[38;5;241m=\u001b[39m [d \u001b[38;5;28;01mif\u001b[39;00m \u001b[38;5;28mtype\u001b[39m(d) \u001b[38;5;129;01mis\u001b[39;00m \u001b[38;5;28mdict\u001b[39m \u001b[38;5;28;01melse\u001b[39;00m \u001b[38;5;28mdict\u001b[39m(d) \u001b[38;5;28;01mfor\u001b[39;00m d \u001b[38;5;129;01min\u001b[39;00m data]\n\u001b[1;32m    919\u001b[0m content \u001b[38;5;241m=\u001b[39m lib\u001b[38;5;241m.\u001b[39mdicts_to_array(data, \u001b[38;5;28mlist\u001b[39m(columns))\n\u001b[1;32m    920\u001b[0m \u001b[38;5;28;01mreturn\u001b[39;00m content, columns\n",
      "File \u001b[0;32m~/.local/lib/python3.8/site-packages/pandas/core/internals/construction.py:917\u001b[0m, in \u001b[0;36m<listcomp>\u001b[0;34m(.0)\u001b[0m\n\u001b[1;32m    913\u001b[0m     columns \u001b[38;5;241m=\u001b[39m ensure_index(pre_cols)\n\u001b[1;32m    915\u001b[0m \u001b[38;5;66;03m# assure that they are of the base dict class and not of derived\u001b[39;00m\n\u001b[1;32m    916\u001b[0m \u001b[38;5;66;03m# classes\u001b[39;00m\n\u001b[0;32m--> 917\u001b[0m data \u001b[38;5;241m=\u001b[39m [d \u001b[38;5;28;01mif\u001b[39;00m \u001b[38;5;28mtype\u001b[39m(d) \u001b[38;5;129;01mis\u001b[39;00m \u001b[38;5;28mdict\u001b[39m \u001b[38;5;28;01melse\u001b[39;00m \u001b[38;5;28;43mdict\u001b[39;49m\u001b[43m(\u001b[49m\u001b[43md\u001b[49m\u001b[43m)\u001b[49m \u001b[38;5;28;01mfor\u001b[39;00m d \u001b[38;5;129;01min\u001b[39;00m data]\n\u001b[1;32m    919\u001b[0m content \u001b[38;5;241m=\u001b[39m lib\u001b[38;5;241m.\u001b[39mdicts_to_array(data, \u001b[38;5;28mlist\u001b[39m(columns))\n\u001b[1;32m    920\u001b[0m \u001b[38;5;28;01mreturn\u001b[39;00m content, columns\n",
      "\u001b[0;31mValueError\u001b[0m: dictionary update sequence element #0 has length 8; 2 is required"
     ]
    }
   ],
   "source": [
    "df_track = pd.DataFrame(data= track_info,columns=track_cols)\n",
    "df_track.columns = df_track.columns.str.strip()\n",
    "\n",
    "df_track"
   ]
  },
  {
   "cell_type": "code",
   "execution_count": 16,
   "metadata": {},
   "outputs": [
    {
     "name": "stdout",
     "output_type": "stream",
     "text": [
      "1846\n"
     ]
    },
    {
     "ename": "NameError",
     "evalue": "name 'df_track' is not defined",
     "output_type": "error",
     "traceback": [
      "\u001b[0;31m---------------------------------------------------------------------------\u001b[0m",
      "\u001b[0;31mNameError\u001b[0m                                 Traceback (most recent call last)",
      "Cell \u001b[0;32mIn[16], line 2\u001b[0m\n\u001b[1;32m      1\u001b[0m \u001b[38;5;28mprint\u001b[39m(\u001b[38;5;28mlen\u001b[39m(track_info))\n\u001b[0;32m----> 2\u001b[0m \u001b[38;5;28mprint\u001b[39m(\u001b[43mdf_track\u001b[49m\u001b[38;5;241m.\u001b[39minfo())\n\u001b[1;32m      3\u001b[0m \u001b[38;5;28mprint\u001b[39m(df_track)\n",
      "\u001b[0;31mNameError\u001b[0m: name 'df_track' is not defined"
     ]
    }
   ],
   "source": [
    "print(len(track_info))\n",
    "print(df_track.info())\n",
    "print(df_track)\n"
   ]
  },
  {
   "cell_type": "code",
   "execution_count": null,
   "metadata": {},
   "outputs": [
    {
     "data": {
      "text/html": [
       "<div>\n",
       "<style scoped>\n",
       "    .dataframe tbody tr th:only-of-type {\n",
       "        vertical-align: middle;\n",
       "    }\n",
       "\n",
       "    .dataframe tbody tr th {\n",
       "        vertical-align: top;\n",
       "    }\n",
       "\n",
       "    .dataframe thead th {\n",
       "        text-align: right;\n",
       "    }\n",
       "</style>\n",
       "<table border=\"1\" class=\"dataframe\">\n",
       "  <thead>\n",
       "    <tr style=\"text-align: right;\">\n",
       "      <th></th>\n",
       "      <th>track_id</th>\n",
       "      <th>lat</th>\n",
       "      <th>lon</th>\n",
       "      <th>speed</th>\n",
       "      <th>lon_acc</th>\n",
       "      <th>lat_acc</th>\n",
       "      <th>time</th>\n",
       "    </tr>\n",
       "  </thead>\n",
       "  <tbody>\n",
       "    <tr>\n",
       "      <th>0</th>\n",
       "      <td>922</td>\n",
       "      <td>37.978428</td>\n",
       "      <td>23.735538</td>\n",
       "      <td>24.1909</td>\n",
       "      <td>-0.0077</td>\n",
       "      <td>-0.0660</td>\n",
       "      <td>813.400000</td>\n",
       "    </tr>\n",
       "    <tr>\n",
       "      <th>1</th>\n",
       "      <td>922</td>\n",
       "      <td>37.978429</td>\n",
       "      <td>23.735541</td>\n",
       "      <td>24.1920</td>\n",
       "      <td>0.0017</td>\n",
       "      <td>-0.0709</td>\n",
       "      <td>813.440000</td>\n",
       "    </tr>\n",
       "    <tr>\n",
       "      <th>2</th>\n",
       "      <td>922</td>\n",
       "      <td>37.978430</td>\n",
       "      <td>23.735544</td>\n",
       "      <td>24.1941</td>\n",
       "      <td>0.0080</td>\n",
       "      <td>-0.0757</td>\n",
       "      <td>813.480000</td>\n",
       "    </tr>\n",
       "    <tr>\n",
       "      <th>3</th>\n",
       "      <td>922</td>\n",
       "      <td>37.978432</td>\n",
       "      <td>23.735546</td>\n",
       "      <td>24.1966</td>\n",
       "      <td>0.0117</td>\n",
       "      <td>-0.0804</td>\n",
       "      <td>813.520000</td>\n",
       "    </tr>\n",
       "    <tr>\n",
       "      <th>4</th>\n",
       "      <td>922</td>\n",
       "      <td>37.978433</td>\n",
       "      <td>23.735549</td>\n",
       "      <td>24.1996</td>\n",
       "      <td>0.0176</td>\n",
       "      <td>-0.0851</td>\n",
       "      <td>813.560000</td>\n",
       "    </tr>\n",
       "    <tr>\n",
       "      <th>5</th>\n",
       "      <td>922</td>\n",
       "      <td>37.978434</td>\n",
       "      <td>23.735551</td>\n",
       "      <td>24.2034</td>\n",
       "      <td>0.0254</td>\n",
       "      <td>-0.0898</td>\n",
       "      <td>813.600000</td>\n",
       "    </tr>\n",
       "    <tr>\n",
       "      <th>6</th>\n",
       "      <td>922</td>\n",
       "      <td>37.978435</td>\n",
       "      <td>23.735554</td>\n",
       "      <td>24.2081</td>\n",
       "      <td>0.0346</td>\n",
       "      <td>-0.0944</td>\n",
       "      <td>813.640000</td>\n",
       "    </tr>\n",
       "    <tr>\n",
       "      <th>7</th>\n",
       "      <td>922</td>\n",
       "      <td>37.978437</td>\n",
       "      <td>23.735557</td>\n",
       "      <td>24.2134</td>\n",
       "      <td>0.0376</td>\n",
       "      <td>-0.0991</td>\n",
       "      <td>813.680000</td>\n",
       "    </tr>\n",
       "    <tr>\n",
       "      <th>8</th>\n",
       "      <td>922</td>\n",
       "      <td>37.978438</td>\n",
       "      <td>23.735559</td>\n",
       "      <td>24.2188</td>\n",
       "      <td>0.0389</td>\n",
       "      <td>-0.1036</td>\n",
       "      <td>813.720000</td>\n",
       "    </tr>\n",
       "    <tr>\n",
       "      <th>9</th>\n",
       "      <td>922</td>\n",
       "      <td>37.978439</td>\n",
       "      <td>23.735562</td>\n",
       "      <td>24.2247</td>\n",
       "      <td>0.0475</td>\n",
       "      <td>-0.1081</td>\n",
       "      <td>813.760000</td>\n",
       "    </tr>\n",
       "    <tr>\n",
       "      <th>10</th>\n",
       "      <td>922</td>\n",
       "      <td>37.978441</td>\n",
       "      <td>23.735564</td>\n",
       "      <td>24.2320</td>\n",
       "      <td>0.0624</td>\n",
       "      <td>-0.1125</td>\n",
       "      <td>813.800000</td>\n",
       "    </tr>\n",
       "    <tr>\n",
       "      <th>11</th>\n",
       "      <td>922</td>\n",
       "      <td>37.978442</td>\n",
       "      <td>23.735567</td>\n",
       "      <td>24.2415</td>\n",
       "      <td>0.0830</td>\n",
       "      <td>-0.1168</td>\n",
       "      <td>813.840000</td>\n",
       "    </tr>\n",
       "    <tr>\n",
       "      <th>12</th>\n",
       "      <td>922</td>\n",
       "      <td>37.978443</td>\n",
       "      <td>23.735569</td>\n",
       "      <td>24.2536</td>\n",
       "      <td>0.1028</td>\n",
       "      <td>-0.1209</td>\n",
       "      <td>813.880000</td>\n",
       "    </tr>\n",
       "    <tr>\n",
       "      <th>13</th>\n",
       "      <td>922</td>\n",
       "      <td>37.978444</td>\n",
       "      <td>23.735572</td>\n",
       "      <td>24.2677</td>\n",
       "      <td>0.1169</td>\n",
       "      <td>-0.1243</td>\n",
       "      <td>813.920000</td>\n",
       "    </tr>\n",
       "    <tr>\n",
       "      <th>14</th>\n",
       "      <td>922</td>\n",
       "      <td>37.978446</td>\n",
       "      <td>23.735575</td>\n",
       "      <td>24.2857</td>\n",
       "      <td>0.1336</td>\n",
       "      <td>-0.1316</td>\n",
       "      <td>813.960000</td>\n",
       "    </tr>\n",
       "    <tr>\n",
       "      <th>15</th>\n",
       "      <td>922</td>\n",
       "      <td>37.978447</td>\n",
       "      <td>23.735577</td>\n",
       "      <td>24.3060</td>\n",
       "      <td>0.1485</td>\n",
       "      <td>-0.1379</td>\n",
       "      <td>814.000000</td>\n",
       "    </tr>\n",
       "    <tr>\n",
       "      <th>16</th>\n",
       "      <td>922</td>\n",
       "      <td>37.978448</td>\n",
       "      <td>23.735580</td>\n",
       "      <td>24.3285</td>\n",
       "      <td>0.1634</td>\n",
       "      <td>-0.1432</td>\n",
       "      <td>814.040000</td>\n",
       "    </tr>\n",
       "    <tr>\n",
       "      <th>17</th>\n",
       "      <td>922</td>\n",
       "      <td>37.978450</td>\n",
       "      <td>23.735582</td>\n",
       "      <td>24.3536</td>\n",
       "      <td>0.1857</td>\n",
       "      <td>-0.1475</td>\n",
       "      <td>814.080000</td>\n",
       "    </tr>\n",
       "    <tr>\n",
       "      <th>18</th>\n",
       "      <td>922</td>\n",
       "      <td>37.978451</td>\n",
       "      <td>23.735585</td>\n",
       "      <td>24.3821</td>\n",
       "      <td>0.2099</td>\n",
       "      <td>-0.1508</td>\n",
       "      <td>814.120000</td>\n",
       "    </tr>\n",
       "    <tr>\n",
       "      <th>19</th>\n",
       "      <td>922</td>\n",
       "      <td>37.978452</td>\n",
       "      <td>23.735588</td>\n",
       "      <td>24.4135</td>\n",
       "      <td>0.2258</td>\n",
       "      <td>-0.1531</td>\n",
       "      <td>814.160000</td>\n",
       "    </tr>\n",
       "  </tbody>\n",
       "</table>\n",
       "</div>"
      ],
      "text/plain": [
       "   track_id         lat         lon     speed   lon_acc   lat_acc         time\n",
       "0       922   37.978428   23.735538   24.1909   -0.0077   -0.0660   813.400000\n",
       "1       922   37.978429   23.735541   24.1920    0.0017   -0.0709   813.440000\n",
       "2       922   37.978430   23.735544   24.1941    0.0080   -0.0757   813.480000\n",
       "3       922   37.978432   23.735546   24.1966    0.0117   -0.0804   813.520000\n",
       "4       922   37.978433   23.735549   24.1996    0.0176   -0.0851   813.560000\n",
       "5       922   37.978434   23.735551   24.2034    0.0254   -0.0898   813.600000\n",
       "6       922   37.978435   23.735554   24.2081    0.0346   -0.0944   813.640000\n",
       "7       922   37.978437   23.735557   24.2134    0.0376   -0.0991   813.680000\n",
       "8       922   37.978438   23.735559   24.2188    0.0389   -0.1036   813.720000\n",
       "9       922   37.978439   23.735562   24.2247    0.0475   -0.1081   813.760000\n",
       "10      922   37.978441   23.735564   24.2320    0.0624   -0.1125   813.800000\n",
       "11      922   37.978442   23.735567   24.2415    0.0830   -0.1168   813.840000\n",
       "12      922   37.978443   23.735569   24.2536    0.1028   -0.1209   813.880000\n",
       "13      922   37.978444   23.735572   24.2677    0.1169   -0.1243   813.920000\n",
       "14      922   37.978446   23.735575   24.2857    0.1336   -0.1316   813.960000\n",
       "15      922   37.978447   23.735577   24.3060    0.1485   -0.1379   814.000000\n",
       "16      922   37.978448   23.735580   24.3285    0.1634   -0.1432   814.040000\n",
       "17      922   37.978450   23.735582   24.3536    0.1857   -0.1475   814.080000\n",
       "18      922   37.978451   23.735585   24.3821    0.2099   -0.1508   814.120000\n",
       "19      922   37.978452   23.735588   24.4135    0.2258   -0.1531   814.160000"
      ]
     },
     "execution_count": 29,
     "metadata": {},
     "output_type": "execute_result"
    }
   ],
   "source": [
    "df_trajectory = pd.DataFrame(data= trajectory_info,columns=trajectory_cols)\n",
    "df_trajectory.columns = df_trajectory.columns.str.strip()\n",
    "\n",
    "df_trajectory.head(20)"
   ]
  }
 ],
 "metadata": {
  "kernelspec": {
   "display_name": "Python 3",
   "language": "python",
   "name": "python3"
  },
  "language_info": {
   "codemirror_mode": {
    "name": "ipython",
    "version": 3
   },
   "file_extension": ".py",
   "mimetype": "text/x-python",
   "name": "python",
   "nbconvert_exporter": "python",
   "pygments_lexer": "ipython3",
   "version": "3.8.10"
  }
 },
 "nbformat": 4,
 "nbformat_minor": 2
}
