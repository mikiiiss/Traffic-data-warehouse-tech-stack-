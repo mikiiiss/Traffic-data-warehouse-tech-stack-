{
 "cells": [
  {
   "cell_type": "code",
   "execution_count": 2,
   "metadata": {},
   "outputs": [],
   "source": [
    "import pandas as pd\n",
    "df = pd.read_csv(\"/home/miki/Documents/10 Academy/Week 2/Traffic_DWH/data/20181024_d3_1030_1100.csv\")"
   ]
  },
  {
   "cell_type": "code",
   "execution_count": 3,
   "metadata": {},
   "outputs": [
    {
     "data": {
      "text/plain": [
       "['track_id; type; traveled_d; avg_speed; lat; lon; speed; lon_acc; lat_acc; time']"
      ]
     },
     "execution_count": 3,
     "metadata": {},
     "output_type": "execute_result"
    }
   ],
   "source": [
    "df.columns.to_list()\n"
   ]
  },
  {
   "cell_type": "code",
   "execution_count": 4,
   "metadata": {},
   "outputs": [],
   "source": [
    "with open(\"/home/miki/Documents/10 Academy/Week 2/Traffic_DWH/data/20181024_d3_1030_1100.csv\", 'r') as file:\n",
    "    lines = file.readlines()"
   ]
  },
  {
   "cell_type": "code",
   "execution_count": 5,
   "metadata": {},
   "outputs": [
    {
     "name": "stdout",
     "output_type": "stream",
     "text": [
      "The number of rows/lines is 1380\n"
     ]
    }
   ],
   "source": [
    "print(f\"The number of rows/lines is {len(lines)}\")"
   ]
  },
  {
   "cell_type": "code",
   "execution_count": 6,
   "metadata": {},
   "outputs": [
    {
     "name": "stdout",
     "output_type": "stream",
     "text": [
      "track_id; type; traveled_d; avg_speed; lat; lon; speed; lon_acc; lat_acc; time\n",
      "\n",
      "['track_id', ' type', ' traveled_d', ' avg_speed', ' lat', ' lon', ' speed', ' lon_acc', ' lat_acc', ' time']\n"
     ]
    }
   ],
   "source": [
    "print(lines[0]) # column names\n",
    "print(lines[0].strip('\\n').strip().strip(';').split(';')) # columns names as a list"
   ]
  },
  {
   "cell_type": "code",
   "execution_count": 7,
   "metadata": {},
   "outputs": [
    {
     "data": {
      "text/plain": [
       "1380"
      ]
     },
     "execution_count": 7,
     "metadata": {},
     "output_type": "execute_result"
    }
   ],
   "source": [
    "lines_as_lists = [line.strip('\\n').strip().strip(';').split(';') for line in lines]\n",
    "len(lines_as_lists)   "
   ]
  },
  {
   "cell_type": "code",
   "execution_count": 8,
   "metadata": {},
   "outputs": [
    {
     "name": "stdout",
     "output_type": "stream",
     "text": [
      "the number of fields in row 1 is 520, row 2 is 850\n"
     ]
    }
   ],
   "source": [
    "print(f\"the number of fields in row 1 is {len(lines_as_lists[1])}, row 2 is {len(lines_as_lists[2])}\")"
   ]
  },
  {
   "cell_type": "code",
   "execution_count": 9,
   "metadata": {},
   "outputs": [
    {
     "name": "stdout",
     "output_type": "stream",
     "text": [
      "the maximum number of fields is 65110\n",
      "the largest n = 10851\n"
     ]
    }
   ],
   "source": [
    "no_field_max = 0\n",
    "\n",
    "for row in lines_as_lists:\n",
    "    if len(row) > no_field_max:\n",
    "        no_field_max = len(row)\n",
    "\n",
    "print(f\"the maximum number of fields is {no_field_max}\")\n",
    "largest_n = int((no_field_max-4)/6)\n",
    "print(f\"the largest n = {largest_n}\")"
   ]
  },
  {
   "cell_type": "code",
   "execution_count": 10,
   "metadata": {},
   "outputs": [],
   "source": [
    "cols = lines_as_lists.pop(0)"
   ]
  },
  {
   "cell_type": "code",
   "execution_count": 11,
   "metadata": {},
   "outputs": [
    {
     "name": "stdout",
     "output_type": "stream",
     "text": [
      "['track_id', ' type', ' traveled_d', ' avg_speed']\n",
      "['track_id', ' lat', ' lon', ' speed', ' lon_acc', ' lat_acc', ' time']\n"
     ]
    }
   ],
   "source": [
    "track_cols = cols[:4]\n",
    "trajectory_cols = ['track_id'] + cols[4:]\n",
    "\n",
    "print(track_cols)\n",
    "print(trajectory_cols)"
   ]
  },
  {
   "cell_type": "code",
   "execution_count": 12,
   "metadata": {},
   "outputs": [],
   "source": [
    "track_info = []\n",
    "trajectory_info = []\n",
    "\n",
    "# for row in lines_as_lists:\n",
    "track_id = row[0]\n",
    "\n",
    "#     # add the first 4 values to track_info\n",
    "track_info.append(row[:4]) \n",
    "\n",
    "remaining_values = row[4:]\n",
    "#     # reshape the list into a matrix and add track_id\n",
    "trajectory_matrix = [ [track_id] + remaining_values[i:i+6] for i in range(0,len(remaining_values),6)]\n",
    "#     # add the matrix rows to trajectory_info\n",
    "trajectory_info = trajectory_info + trajectory_matrix"
   ]
  },
  {
   "cell_type": "code",
   "execution_count": 13,
   "metadata": {},
   "outputs": [
    {
     "data": {
      "text/html": [
       "<div>\n",
       "<style scoped>\n",
       "    .dataframe tbody tr th:only-of-type {\n",
       "        vertical-align: middle;\n",
       "    }\n",
       "\n",
       "    .dataframe tbody tr th {\n",
       "        vertical-align: top;\n",
       "    }\n",
       "\n",
       "    .dataframe thead th {\n",
       "        text-align: right;\n",
       "    }\n",
       "</style>\n",
       "<table border=\"1\" class=\"dataframe\">\n",
       "  <thead>\n",
       "    <tr style=\"text-align: right;\">\n",
       "      <th></th>\n",
       "      <th>track_id</th>\n",
       "      <th>type</th>\n",
       "      <th>traveled_d</th>\n",
       "      <th>avg_speed</th>\n",
       "    </tr>\n",
       "  </thead>\n",
       "  <tbody>\n",
       "    <tr>\n",
       "      <th>0</th>\n",
       "      <td>1379</td>\n",
       "      <td>Motorcycle</td>\n",
       "      <td>3.74</td>\n",
       "      <td>33.694996</td>\n",
       "    </tr>\n",
       "  </tbody>\n",
       "</table>\n",
       "</div>"
      ],
      "text/plain": [
       "  track_id         type  traveled_d   avg_speed\n",
       "0     1379   Motorcycle        3.74   33.694996"
      ]
     },
     "execution_count": 13,
     "metadata": {},
     "output_type": "execute_result"
    }
   ],
   "source": [
    "df_track = pd.DataFrame(data= track_info,columns=track_cols)\n",
    "\n",
    "df_track.head()"
   ]
  },
  {
   "cell_type": "code",
   "execution_count": 14,
   "metadata": {},
   "outputs": [
    {
     "data": {
      "text/html": [
       "<div>\n",
       "<style scoped>\n",
       "    .dataframe tbody tr th:only-of-type {\n",
       "        vertical-align: middle;\n",
       "    }\n",
       "\n",
       "    .dataframe tbody tr th {\n",
       "        vertical-align: top;\n",
       "    }\n",
       "\n",
       "    .dataframe thead th {\n",
       "        text-align: right;\n",
       "    }\n",
       "</style>\n",
       "<table border=\"1\" class=\"dataframe\">\n",
       "  <thead>\n",
       "    <tr style=\"text-align: right;\">\n",
       "      <th></th>\n",
       "      <th>track_id</th>\n",
       "      <th>lat</th>\n",
       "      <th>lon</th>\n",
       "      <th>speed</th>\n",
       "      <th>lon_acc</th>\n",
       "      <th>lat_acc</th>\n",
       "      <th>time</th>\n",
       "    </tr>\n",
       "  </thead>\n",
       "  <tbody>\n",
       "    <tr>\n",
       "      <th>0</th>\n",
       "      <td>1379</td>\n",
       "      <td>37.982845</td>\n",
       "      <td>23.729216</td>\n",
       "      <td>37.4389</td>\n",
       "      <td>0.0000</td>\n",
       "      <td>0.0000</td>\n",
       "      <td>433.600000</td>\n",
       "    </tr>\n",
       "    <tr>\n",
       "      <th>1</th>\n",
       "      <td>1379</td>\n",
       "      <td>37.982842</td>\n",
       "      <td>23.729219</td>\n",
       "      <td>37.4389</td>\n",
       "      <td>0.0000</td>\n",
       "      <td>0.0000</td>\n",
       "      <td>433.640000</td>\n",
       "    </tr>\n",
       "    <tr>\n",
       "      <th>2</th>\n",
       "      <td>1379</td>\n",
       "      <td>37.982839</td>\n",
       "      <td>23.729222</td>\n",
       "      <td>37.4389</td>\n",
       "      <td>0.0000</td>\n",
       "      <td>0.0000</td>\n",
       "      <td>433.680000</td>\n",
       "    </tr>\n",
       "    <tr>\n",
       "      <th>3</th>\n",
       "      <td>1379</td>\n",
       "      <td>37.982836</td>\n",
       "      <td>23.729225</td>\n",
       "      <td>37.4389</td>\n",
       "      <td>0.0000</td>\n",
       "      <td>0.0000</td>\n",
       "      <td>433.720000</td>\n",
       "    </tr>\n",
       "    <tr>\n",
       "      <th>4</th>\n",
       "      <td>1379</td>\n",
       "      <td>37.982833</td>\n",
       "      <td>23.729227</td>\n",
       "      <td>37.4389</td>\n",
       "      <td>0.0000</td>\n",
       "      <td>0.0000</td>\n",
       "      <td>433.760000</td>\n",
       "    </tr>\n",
       "  </tbody>\n",
       "</table>\n",
       "</div>"
      ],
      "text/plain": [
       "  track_id         lat         lon     speed  lon_acc  lat_acc         time\n",
       "0     1379   37.982845   23.729216   37.4389   0.0000   0.0000   433.600000\n",
       "1     1379   37.982842   23.729219   37.4389   0.0000   0.0000   433.640000\n",
       "2     1379   37.982839   23.729222   37.4389   0.0000   0.0000   433.680000\n",
       "3     1379   37.982836   23.729225   37.4389   0.0000   0.0000   433.720000\n",
       "4     1379   37.982833   23.729227   37.4389   0.0000   0.0000   433.760000"
      ]
     },
     "execution_count": 14,
     "metadata": {},
     "output_type": "execute_result"
    }
   ],
   "source": [
    "df_trajectory = pd.DataFrame(data= trajectory_info,columns=trajectory_cols)\n",
    "\n",
    "df_trajectory.head()"
   ]
  }
 ],
 "metadata": {
  "kernelspec": {
   "display_name": "Python 3",
   "language": "python",
   "name": "python3"
  },
  "language_info": {
   "codemirror_mode": {
    "name": "ipython",
    "version": 3
   },
   "file_extension": ".py",
   "mimetype": "text/x-python",
   "name": "python",
   "nbconvert_exporter": "python",
   "pygments_lexer": "ipython3",
   "version": "3.8.10"
  }
 },
 "nbformat": 4,
 "nbformat_minor": 2
}
